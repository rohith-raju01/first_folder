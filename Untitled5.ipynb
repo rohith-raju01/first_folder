{
 "cells": [
  {
   "cell_type": "code",
   "execution_count": 2,
   "id": "a45140fd",
   "metadata": {},
   "outputs": [
    {
     "name": "stdout",
     "output_type": "stream",
     "text": [
      "x: 12\n",
      "y: 2\n",
      "14\n",
      "10\n",
      "24\n",
      "0\n",
      "6.0\n",
      "144\n"
     ]
    }
   ],
   "source": [
    "x=int(input(\"x: \"))\n",
    "y=int(input(\"y: \"))\n",
    "\n",
    "add=lambda x,y:x+y\n",
    "print(add(x,y))\n",
    "\n",
    "sub=lambda x,y:x-y\n",
    "print(sub(x,y))\n",
    "\n",
    "mul=lambda x,y:x*y\n",
    "print(mul(x,y))\n",
    "\n",
    "mod=lambda x,y:x%y\n",
    "print(mod(x,y))\n",
    "\n",
    "div=lambda x,y:x/y\n",
    "print(div(x,y))\n",
    "\n",
    "exp=lambda x,y:x**y\n",
    "print(exp(x,y))\n",
    "\n"
   ]
  },
  {
   "cell_type": "code",
   "execution_count": null,
   "id": "60da028b",
   "metadata": {},
   "outputs": [],
   "source": []
  },
  {
   "cell_type": "code",
   "execution_count": null,
   "id": "8604b050",
   "metadata": {},
   "outputs": [],
   "source": []
  }
 ],
 "metadata": {
  "kernelspec": {
   "display_name": "Python 3 (ipykernel)",
   "language": "python",
   "name": "python3"
  },
  "language_info": {
   "codemirror_mode": {
    "name": "ipython",
    "version": 3
   },
   "file_extension": ".py",
   "mimetype": "text/x-python",
   "name": "python",
   "nbconvert_exporter": "python",
   "pygments_lexer": "ipython3",
   "version": "3.10.9"
  }
 },
 "nbformat": 4,
 "nbformat_minor": 5
}
